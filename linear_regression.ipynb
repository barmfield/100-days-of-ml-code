{
 "cells": [
  {
   "cell_type": "markdown",
   "metadata": {},
   "source": [
    "Exploration of linear regression"
   ]
  },
  {
   "cell_type": "code",
   "execution_count": null,
   "metadata": {},
   "outputs": [],
   "source": [
    "# This will work with any csv in the same directory as the notebook.\n",
    "# Some examples are below. Uncomment the line below to creat your own variable!\n",
    "\n",
    "# file_name = '[your_stock_here]'\n",
    "\n",
    "snp = 'gspc.csv'\n",
    "aapl = 'AAPL.csv'"
   ]
  },
  {
   "cell_type": "code",
   "execution_count": 3,
   "metadata": {},
   "outputs": [],
   "source": [
    "# import required modules\n",
    "\n",
    "from sklearn.model_selection import train_test_split\n",
    "from sklearn.linear_model import LinearRegression\n",
    "import numpy as np\n",
    "import pandas as pd\n",
    "import matplotlib.pyplot as plt\n",
    "from datetime import datetime\n",
    "import time"
   ]
  },
  {
   "cell_type": "code",
   "execution_count": 4,
   "metadata": {},
   "outputs": [],
   "source": [
    "def convert_dates(date_list):\n",
    "    \"\"\"\n",
    "    Takes iterable of date strings (eg:'1900-1-1') as a parameter and returns a pd.Series\n",
    "    of datetime objects \n",
    "    \"\"\"\n",
    "\n",
    "    # split date strings in to year, month, day. date_array becomes a 2d array where\n",
    "    # first axis is dates, and second axis is year, month, and day\n",
    "    date_array = []    \n",
    "    for date in date_list:\n",
    "        date_array.append(date.split('-'))\n",
    "    \n",
    "    # convert date strings into ints\n",
    "    clean_dates = []\n",
    "    for date in date_array:\n",
    "        clean_dates.append([int(d) for d in date])\n",
    "        \n",
    "    # convert int lists to datetime objects\n",
    "    datetimes = []\n",
    "    for date in clean_dates:\n",
    "        t = datetime(date[0], date[1], date[2])\n",
    "        datetimes.append(time.mktime(t.timetuple()))\n",
    "        \n",
    "    return datetimes"
   ]
  },
  {
   "cell_type": "code",
   "execution_count": 7,
   "metadata": {},
   "outputs": [],
   "source": [
    "def stock_regression(file_name):\n",
    "    df = pd.read_csv(file_name)\n",
    "    raw_dates = pd.Series(df['Date'][1:])\n",
    "\n",
    "    X = np.array(convert_dates(raw_dates))\n",
    "    y = np.array(df['Close'][1:])\n",
    "\n",
    "    # reshape y because sklearn needs 2d array\n",
    "    X = X.reshape(-1, 1)\n",
    "    \n",
    "    # split training and testing sets\n",
    "    X_train, X_test, y_train, y_test = train_test_split(X, y, random_state = 0)\n",
    "    \n",
    "    # create model and predictions\n",
    "    model = LinearRegression().fit(X_train, y_train)\n",
    "    y_pred = model.predict(X_test)\n",
    "    \n",
    "    # plot 'em\n",
    "    plt.plot(X,y)\n",
    "    plt.plot(X_test, y_pred)\n",
    "    \n",
    "    # print accuracy\n",
    "    print(f\"Training set score: {model.score(X_train, y_train)}\")\n",
    "    print(f\"Test set score: {model.score(X_test, y_test)}\")"
   ]
  },
  {
   "cell_type": "code",
   "execution_count": 8,
   "metadata": {},
   "outputs": [
    {
     "name": "stdout",
     "output_type": "stream",
     "text": [
      "Training set score: 0.7523937382385173\n",
      "Test set score: 0.7586179342916427\n"
     ]
    },
    {
     "data": {
      "image/png": "[encoded data removed]",
      "text/plain": [
       "<Figure size 432x288 with 1 Axes>"
      ]
     },
     "metadata": {},
     "output_type": "display_data"
    }
   ],
   "source": [
    "stock_regression(aapl)"
   ]
  },
  {
   "cell_type": "code",
   "execution_count": null,
   "metadata": {},
   "outputs": [],
   "source": []
  }
 ],
 "metadata": {
  "kernelspec": {
   "display_name": "Python 3",
   "language": "python",
   "name": "python3"
  },
  "language_info": {
   "codemirror_mode": {
    "name": "ipython",
    "version": 3
   },
   "file_extension": ".py",
   "mimetype": "text/x-python",
   "name": "python",
   "nbconvert_exporter": "python",
   "pygments_lexer": "ipython3",
   "version": "3.6.5"
  }
 },
 "nbformat": 4,
 "nbformat_minor": 2
}
